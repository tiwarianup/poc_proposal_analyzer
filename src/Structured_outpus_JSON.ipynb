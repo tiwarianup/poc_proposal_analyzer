{
 "cells": [
  {
   "cell_type": "code",
   "execution_count": 1,
   "metadata": {},
   "outputs": [],
   "source": [
    "import streamlit as st\n",
    "import tempfile\n",
    "import os\n",
    "from langchain_community.vectorstores import FAISS\n",
    "# from langchain_community.document_loaders import PyMuPDFLoader\n",
    "from langchain_community.document_loaders import PyPDFLoader\n",
    "from langchain_openai import OpenAIEmbeddings, AzureChatOpenAI\n",
    "from langchain_text_splitters import RecursiveCharacterTextSplitter\n",
    "from langchain.chains import LLMChain\n",
    "from langchain.prompts import PromptTemplate\n",
    "from langchain_openai import AzureChatOpenAI\n",
    "from langchain_openai import AzureOpenAIEmbeddings\n",
    "from typing import List, Optional\n",
    "\n",
    "from langchain_core.prompts import ChatPromptTemplate, MessagesPlaceholder\n",
    "from langchain_core.pydantic_v1 import BaseModel, Field\n",
    "\n"
   ]
  },
  {
   "cell_type": "code",
   "execution_count": 2,
   "metadata": {},
   "outputs": [],
   "source": [
    "from typing import List, Optional\n",
    "\n",
    "from langchain_core.prompts import ChatPromptTemplate, MessagesPlaceholder\n",
    "from langchain_core.pydantic_v1 import BaseModel, Field\n",
    "\n",
    "\n",
    "\n",
    "\n"
   ]
  },
  {
   "cell_type": "code",
   "execution_count": 3,
   "metadata": {},
   "outputs": [],
   "source": [
    "def load_document(tmp_file_path):\n",
    "  # with tempfile.NamedTemporaryFile(delete=False) as tmp_file:\n",
    "  #     tmp_file.write(file.getvalue())\n",
    "  #     tmp_file_path = tmp_file.name\n",
    "\n",
    "  loader = PyPDFLoader(tmp_file_path)\n",
    "  documents = loader.load()\n",
    "  text_splitter = RecursiveCharacterTextSplitter(chunk_size=1024, chunk_overlap=0)\n",
    "  docs = text_splitter.split_documents(documents)\n",
    "  \n",
    "  # os.unlink(tmp_file_path)\n",
    "  return docs\n",
    "\n",
    "def create_vector_db(docs, path):\n",
    "  embedding_function = AzureOpenAIEmbeddings(\n",
    "            openai_api_type = \"azure\",\n",
    "            openai_api_key = os.getenv(\"AZURE_OPENAI_API_KEY\"),\n",
    "            azure_endpoint = os.getenv(\"AZURE_OPENAI_ENDPOINT\"),\n",
    "            deployment = \"text-embedding-ada-002\",\n",
    "            model = \"text-embedding-ada-002\"\n",
    "        )\n",
    "  db = FAISS.from_documents(docs, embedding_function)\n",
    "  db.save_local(path)\n",
    "  return db\n",
    "\n",
    "def load_vector_db(path):\n",
    "  embedding_function = AzureOpenAIEmbeddings(\n",
    "            openai_api_type = \"azure\",\n",
    "            openai_api_key = os.getenv(\"AZURE_OPENAI_API_KEY\"),\n",
    "            azure_endpoint = os.getenv(\"AZURE_OPENAI_ENDPOINT\"),\n",
    "            deployment = \"text-embedding-ada-002\",\n",
    "            model = \"text-embedding-ada-002\"\n",
    "        )\n",
    "  return FAISS.load_local(path, embedding_function, allow_dangerous_deserialization=True)\n",
    "\n",
    "def analyze_eligibility(rfp_content, proposal_content):\n",
    "  llm= AzureChatOpenAI(\n",
    "                openai_api_key = os.getenv(\"AZURE_OPENAI_API_KEY\"),\n",
    "                openai_api_version = os.getenv(\"AZURE_OPENAI_API_VERSION\"),\n",
    "                azure_deployment = os.getenv(\"AZURE_OPENAI_CHAT_DEPLOYMENT_NAME\"),\n",
    "                azure_endpoint = os.getenv(\"AZURE_OPENAI_ENDPOINT\"),\n",
    "                temperature = 0,\n",
    "                \n",
    "            )\n",
    "\n",
    "  template = \"\"\"\n",
    "  You are an AI contract analyzer. Your task is to compare the eligibility criteria listed in a Request for Proposal (RFP) with the details provided in a proposal.\n",
    "\n",
    "  RFP Content:\n",
    "  {rfp_content}\n",
    "\n",
    "  Proposal Content:\n",
    "  {proposal_content}\n",
    "\n",
    "  For each eligibility criterion in the RFP, provide the following:\n",
    "\n",
    "  Eligibility Criterion: [Insert eligibility criterion from RFP]\n",
    "  Eligibility Met (Yes/No): [Yes/No]\n",
    "  Reason: [Provide a detailed explanation of how the eligibility criterion is met or not met based on the proposal]\n",
    "\n",
    "  Please provide your analysis in a clear, structured format.\n",
    "  \"\"\"\n",
    "\n",
    "  prompt = PromptTemplate(input_variables=[\"rfp_content\", \"proposal_content\"], template=template)\n",
    "  # chain = LLMChain(llm=llm, prompt=prompt)\n",
    "\n",
    "  extarctor_chain=prompt|llm.with_structured_output(\n",
    "    schema=EligibilityData,\n",
    "    include_raw=False\n",
    "  )\n",
    "  extarctor_chain.invoke({'rfp_content':rfp_content, 'proposal_content':proposal_content})\n",
    "  \n",
    "  return extarctor_chain.invoke({'rfp_content':rfp_content, 'proposal_content':proposal_content})\n"
   ]
  },
  {
   "cell_type": "code",
   "execution_count": 4,
   "metadata": {},
   "outputs": [],
   "source": [
    "rfp_file =\"../data/tendernotice-1-11713759672.pdf\"\n",
    "# proposal_file = st.file_uploader(\"Upload Proposal (PDF)\", type=\"pdf\")\n",
    "# Load and process RFP\n",
    "rfp_docs = load_document(rfp_file)\n",
    "rfp_db = create_vector_db(rfp_docs, \"../vectorstore/RFP\")\n",
    "\n",
    "\n",
    "# Load and process Proposal\n",
    "proposal_file= \"../data/Proposal for Conducting Market Study on Artificial Intelligence and Competition.pdf\"\n",
    "proposal_docs = load_document(proposal_file)\n",
    "proposal_db = create_vector_db(proposal_docs, \"../vectorstore/Proposals/\")"
   ]
  },
  {
   "cell_type": "code",
   "execution_count": 5,
   "metadata": {},
   "outputs": [],
   "source": [
    "# Retrieve relevant content\n",
    "rfp_content = rfp_db.similarity_search(\"eligibility criteria\", k=20)\n",
    "proposal_content = proposal_db.similarity_search(\"company background and qualifications\", k=20)"
   ]
  },
  {
   "cell_type": "code",
   "execution_count": 6,
   "metadata": {},
   "outputs": [
    {
     "data": {
      "text/plain": [
       "[Document(metadata={'source': '../data/tendernotice-1-11713759672.pdf', 'page': 11}, page_content='ii. CCI’s nominated Officers will be part of “Study Team” to ensure timely completion \\nof the study and quality assessment of the submissions made by the Agency.  \\n \\n \\n \\nVIII.   PRE -QUALIFICATION/ ELIGIBILITY CRITERIA  \\n \\nThe pre -qualification/ eligibility criteria for the agencies are provided in the table  below:  \\n \\nS. No.  Pre-Qualification Criteria  Proof Required  \\n1. A minimum  of 5 years of existence  \\n Copy of Certificate of \\nIncorporation/ Registration/ MoA, \\nas applicable.  \\n2. The Agency should have a minimum Annual \\nTurnover of Rs. 50 Cr. during each of the  3 \\nfinancial years  i.e., FY 2020 -21, FY 2021 -22 \\nand FY 2022 -23 Copies of  financial statements \\nduly audited by statutory auditors . \\nIn the absence of the same,  \\ncertificates issued by chartered \\naccountants  for the relevant years , \\nas per Annexure -1 \\n3. The Agency should have co mpleted  a \\nminimum of 5 studies/ projects (AI \\nrelated/tech -policy related/competition \\nrelated/sectoral studies for policy purposes )'),\n",
       " Document(metadata={'source': '../data/tendernotice-1-11713759672.pdf', 'page': 4}, page_content='XI. CRITERIA FOR EVALUATION OF PROPOSAL ………………………… ........... ......15 \\n(A) TECHNICAL EVALUATION ...................................................... ......................... ..15 \\n(B) SELECTION PROCESS …… …………………………….…….. ........................... .17 \\n(C) AWARD OF CONTRACT ……………………………….………… ...................... .18 \\nXII. SUBMISSION OF BIDS ……………………………………… ........................... ............. .....19 \\nXIII.  GENERAL INSTRUCTIONS AND TERMS AND CONDITIONS OF RFP …… ….20 \\n(A) RELATIONSHIP  ……………………………………………….. ...................... ......... ......20 \\n(B) AMENDMENTS TO THE TERMS AND CONDITIONS OF RFP:  .…… .............20 \\n(C) EARNEST MONEY DEPOSIT (EMD): ………………….. ................. ...................... ..20 \\n(D) PERFORMANCE SECURIT Y:……………….……………..…….. ....................... ......21'),\n",
       " Document(metadata={'source': '../data/tendernotice-1-11713759672.pdf', 'page': 14}, page_content='Request for Proposal for the Engagement of an Agency to Conduct Market Study on Artificial Intelligence (AI) and \\nCompetition  \\n15 \\n XI. CRITERIA FOR EVALUATION OF PROPOSAL  \\n \\nThe Technical Evaluation Committee (‘TEC’) constituted by the Competent Authority in CCI \\nshall examine the technical proposal s of only such bidders who satisfy the pre -qualification/ \\neligibility criteria mentioned in this RFP.   \\n \\n \\n(A) TECHNICAL EVALUATION  \\n  \\n(i) At the time of technical evaluation, all the bidders are required to present their \\ntechnical presentation before the TEC regarding their technical proposal. Each \\nbidder will be given a maximum of 15 minutes duration to make the \\npresentation. If a bidder does not appear for presentation at the  notified  date, \\ntime and venue, then their technical bid s will not be considered for evaluation.  \\n \\n(ii) The technical evaluation of the bid s and the presentation s will be done based on'),\n",
       " Document(metadata={'source': '../data/tendernotice-1-11713759672.pdf', 'page': 14}, page_content='the following parameters to bring out the T echnical Marks for each bidder:  \\n \\nSl. \\nNo.  Particulars  Maximum Marks  \\n1.  Experience including Relevant \\nExperience  50 \\n2.  Team Composition  20 \\n \\n3.  Approach, Methodology & Work \\nplan  30 \\n TOTAL  100 \\n \\n(iii) While carrying out evaluation of the Technical Proposal , following marking \\npattern shall be followed:  \\n \\nMarking Pattern for Experience including Relevant Experience: Maximum Marks: 50 \\n \\nS. No.  Evaluation criteria  Maximum \\nMarks  \\n \\n1. Agency Profile  (number of years of existence, turnover,  \\nareas of work , global presence and exposure, access to \\nrelevant resources/databases)  50 \\n2. Number of relevant projects (AI related/tech -policy \\nrelated/competition related/sectoral studies for policy \\npurposes)  \\n \\n3. Empanelment with government/statutory bodies'),\n",
       " Document(metadata={'source': '../data/tendernotice-1-11713759672.pdf', 'page': 15}, page_content='focused group discussions, any other) and \\nquality control  \\n▪ Presentation of the technical proposal   \\n \\n30 \\n \\n \\n(iv) The Technical Marks so obtained shall be graded for each bidder, based on the \\nfollowing grading system:  \\nGrade  Range  Technical Grade  \\nOutstanding  91-100 100 \\nExcellent  81-90 90 \\nVery Good  71-80 80 \\nGood  61-70 70 \\nVery Fair  51-60 60 \\nFair  41-50 50 \\nAverage  31-40 40 \\nBelow Average  21-30 30 \\nPoor  11-20 20 \\nVery Poor  1-10 10 \\nZero  0 0'),\n",
       " Document(metadata={'source': '../data/tendernotice-1-11713759672.pdf', 'page': 36}, page_content='Empanelment with government/statutory bodies  \\n(List along with empanelment letter s to be submitted)  \\n \\nAny other factor deemed relevant for assessment  \\n(Add relevant links /documents )  \\n \\n \\nSignature:  \\nName and Designation of the Authorised Signatory:  \\nName of Agency:  \\nAddress:  \\nSEAL of the Agency  \\nDate:  \\n*On the letterhead of the Agency'),\n",
       " Document(metadata={'source': '../data/tendernotice-1-11713759672.pdf', 'page': 15}, page_content='Request for Proposal for the Engagement of an Agency to Conduct Market Study on Artificial Intelligence (AI) and \\nCompetition  \\n16 \\n 4. Citations of reports/surveys in public reports/government \\npolicy documents, media etc.  \\n \\n5. Any other factor deemed relevant for assessment  \\n \\nMarking Pattern for Team Composition: Maximum Marks: 20 \\nEvaluation criteria  Maximum Marks  \\nQualification, relevant experience, nature, scope and number \\nof projects steered by the team leader  10 \\nCore team composition including number of team members, \\nqualification, interdisciplinary expertise, relevant experience, \\nnature and scope of work undert aken by team members  10 \\n \\nMarking Pattern for Approach, Methodology & Work plan: Maximum Marks: 30 \\nEvaluation criteria  Maximum Marks  \\n \\n▪ Understanding of terms of reference, scope \\nof work and deliverables , clarity of plan of \\naction and methodology  \\n▪ Strategies for stakeholder consultation \\n(including survey, one -on-one meetings,'),\n",
       " Document(metadata={'source': '../data/tendernotice-1-11713759672.pdf', 'page': 12}, page_content='final report along with all primary/raw and processed data in \\nhard and/or soft -copy format, or approval by the Competent \\nAuthority, whichever is later)  50% \\n \\n(B) The responsibility of payment of taxes/duties/GST shall solely rest upon the Engaged \\nAgency . Any default committed by the Engaged Agency in this respect shall not be \\nattributable to the Commission.  \\n \\n(C) The release of payment for conducting the market study sh all be subject to TDS as \\nper applicable Rules/Acts/Laws.  \\n \\nX. GUIDELINES FOR SUBMISSION OF PROPOSAL  \\n \\n(A) TECHNICAL PROPOSAL  \\n \\nThe Technical Proposal shall include the following information , along with relevant \\ndocuments :'),\n",
       " Document(metadata={'source': '../data/tendernotice-1-11713759672.pdf', 'page': 13}, page_content='be summari ly rejected.  \\n \\n(vi) CCI reserves the right of seeking additional information including copies of \\nproject completion report s of other projects or Audited Annual Statement s of \\nAccounts while examining individual cases.'),\n",
       " Document(metadata={'source': '../data/tendernotice-1-11713759672.pdf', 'page': 17}, page_content='Request for Proposal for the Engagement of an Agency to Conduct Market Study on Artificial Intelligence (AI) and \\nCompetition  \\n18 \\n  \\n(iii) Bids with a minimum technical score of 70 in technical evaluation will be \\nconsidered for financial score evaluation.  \\n \\n(iv) The proposal obtaining the highest CTFS will be ranked as H -1 followed by the \\nproposals securing lesser marks as H -2, H -3 etc. The propos al securing the \\nhighest combined marks and ranked H -1 and shall be recommended for award \\nof contract.  \\n \\n(v) In the event two or more bids have the same score in final ranking, the bid with \\nthe highe st technical score will be H -1. \\n \\n(vi) CCI will not notify the Agenc ies whose proposal did not meet the minimum \\nrequirement of technical score and  will notify  only the Agencies who have \\nobtained the  minimum  technical score.  \\n \\n(vii) The notification will be sent by a registered post/Fax/e -mail.  \\n \\n(C) AWARD OF CONTRACT'),\n",
       " Document(metadata={'source': '../data/tendernotice-1-11713759672.pdf', 'page': 16}, page_content='be converted into Financial Scores based on the following formula:  \\nFS = 100 x LFB / F  \\nFS= Financial score  \\nLFB = lowest financial bid  \\nF = price quoted by the respective bidders  \\n \\n(x) After obtaining the Technical Score and Financial Score of each bidder, the \\nCombined Technical and Financial Score (CTFS) will be calculated. In \\ncalculation of CTFS, 70 percent weight will be given to the Technical Score and \\n30 percent weight will be given to the Financial Score.  \\n \\n(B) SELECTION PROCESS  \\nFollowing process for selection will be adopted:  \\n \\n(i) It is a n open  tender governed by General Financial Rules - 2017 . \\n \\n(ii) The selection process would be Quality and Cost Based Selection (QCBS). The \\nSelection Committee will select the Agency by giving 70% weightage to the \\ntechnical score and 30% weightage to the Financial Score.'),\n",
       " Document(metadata={'source': '../data/tendernotice-1-11713759672.pdf', 'page': 20}, page_content='same specified time. Proposals received after the due date and time specified will be \\nrejected. No prop osal shall be accepted unless it is properly sealed.'),\n",
       " Document(metadata={'source': '../data/tendernotice-1-11713759672.pdf', 'page': 20}, page_content='Request for Proposal for the Engagement of an Agency to Conduct Market Study on Artificial Intelligence (AI) and \\nCompetition  \\n21 \\n payable in favour of the “Competition Commission of India (Competition Fund) Account” \\npayable at Delhi. The Demand Draft/Banker Cheque for the earnest  money shall be put in \\nthe envelope for the Prequalification Bid as the technical and financial Bid would be opened \\nonly in respect of those agencies who qualify the prequalification criteria. The bids received \\nwithout the EMD will be summarily rejected.  The EMD shall be valid for a period of 45 \\ndays beyond the final bid validity period. EMD shall be forfeited if the bidder withdraws \\nor amends his bid or impairs or derogates from the bid in any respect within the period of \\nvalidity of its bid.  In the case o f successful agency, the EMD may be returned/ refunded \\nafter submission of the Performance Security (PS ) to be furnished on award of the work.'),\n",
       " Document(metadata={'source': '../data/tendernotice-1-11713759672.pdf', 'page': 18}, page_content='post/with acknowledgement due or in person. Bids can be dropped in the tender box  \\nkept at Competition Commission of India, Reception, 9th Floor, Office Block – \\n1, Kidwai Nagar ( East), Opposite AIIMS, Ring Road, New Delhi - 110023, \\nIndia  on or before the given date and time.'),\n",
       " Document(metadata={'source': '../data/tendernotice-1-11713759672.pdf', 'page': 13}, page_content='(vi) A two-to-five page summary  of the technical proposal . \\n \\n(B) FINANCIAL PROPOSAL  \\n \\n(i) The financial quotes should cover the entire cost of Study including all resource \\ncost, field work, data entry, data analysis, preparation of reports, travels \\nallowances, etc.  \\n \\n(ii) The cost quoted should be inclusive of all taxes; however, the amount and tax -\\nrate must be mentioned separately.  \\n \\n(iii) The Engaged Agency, in accepting the quoted rates/prices shall for all purposes \\nwhatsoever b e deemed to have independently obtained all necessary information \\nfor the purposes of the Agreement and shall be deemed to have taken into \\naccount all contingencies as may arise due to such information or the lack of the \\nsame.  \\n \\n(iv) All payments to the Engaged Agency shall be subjected to deduction of taxes at \\nsource as per applicable laws.  \\n \\n(v) The financial bid shall be submitted as per the format shown in Annexure -8. \\nFinancial bid submitted in any other format other than as per Annexure -8 shall'),\n",
       " Document(metadata={'source': '../data/tendernotice-1-11713759672.pdf', 'page': 19}, page_content='the submission of proposal. The decision of extending the due date and time for \\nsubmission of bid documents on account of amendments , however,  will be the \\nsole discretion of CCI.  \\nii) CCI reserves the right to cancel the RFP at any stage without assigning any \\nreason.  \\n \\n \\nC) EARNEST MONEY DEPOSIT (EMD):  \\n \\nThe Agencies should furnish an Earnest Money Deposit of Rs 5, 00,000/ - (Rupees five \\nlakhs only)  by means of Demand Draft/Banker Cheque drawn on any Commercial Bank'),\n",
       " Document(metadata={'source': '../data/tendernotice-1-11713759672.pdf', 'page': 5}, page_content='Annexure 2 :Performance Statement…………………………………………………… ….34  \\nAnnexure 3: Draft No -Conviction/ Debarment Certificate…………………………… ….35  \\nAnnexure  4: Letter of Transmittal .... ............................................. ..................... ................ ..36 \\nAnnexure 5: Outline of Experience including Relevant Experience ……………………. ..37 \\nAnnexure 6: Details of the Resource Persons/ Team Composition ………………………. .38 \\nAnnexure 7: Approach, Methodology and Detailed Work Plan …………………… .........39 \\nAnnexure 8: Financial Bid  ……………………………………………………………… .....40 \\nLIST OF ANNEXURES AND FORMATS: .... ............................................................................ ......41'),\n",
       " Document(metadata={'source': '../data/tendernotice-1-11713759672.pdf', 'page': 12}, page_content='Request for Proposal for the Engagement of an Agency to Conduct Market Study on Artificial Intelligence (AI) and \\nCompetition  \\n13 \\n 4. The Agency should not have been blacklisted \\nby Central/ State Gover nment Departments/ \\nUndertakings/Court of Law   No Conviction/ Debarment \\nCertificate duly signed by the \\nAuthorised  Signatory of the \\nAgency, as per Annexure -3.  \\n \\n5 The agency should have a valid PAN and \\nService Tax/GST Registration in India  \\n(if applicable)  Self-attested c opy of PAN card \\nand Service Tax/ GST \\nRegistration certificate (if \\napplicable)  \\n \\n \\n \\nIX. PAYMENT SCHEDULE  \\n \\n(A) The payment Schedule is given in the table below.  \\n \\nMILESTONE  PAYMENT  \\n(% BREAKUP)  \\nFacilitation fee on submission of a separate Bank Guarantee \\nof the same amount  25% \\nSubmission of I nterim Report (Within 7 days of acceptance \\nof interim report, or approval by the Competent Authority, \\nwhichever is later)  \\n 25% \\nSubmission of Final Report (Within 15 days of acceptance of'),\n",
       " Document(metadata={'source': '../data/tendernotice-1-11713759672.pdf', 'page': 2}, page_content='CCI reserves the right to change/ modify/ amend any or all provisions of this RFP document.'),\n",
       " Document(metadata={'source': '../data/tendernotice-1-11713759672.pdf', 'page': 18}, page_content='iii) All pages of the  Pre-qualification,  Technical and Financial Bid s shall be duly signed \\nby the authorized signatory of the agency before submission . Corrections, if any \\nshall be counter signed. The agency should submit the Technical Bid in the \\nprescribed Proforma (Annexure 5, 6, 7) and Financial Bid in the prescribed \\nProforma (Annexure 8) only ; failing which , the offer shall be summarily rejected.  \\n \\niv) All these sealed envelopes are to be put in a bigger envelope which should also be \\nsealed and duly super -scripted as “Proposal for the engagement of an Agency for \\nconducting “Market Study on Artificial Intelligence (AI) and Competition ” and \\naddressed to:  \\n \\nRaj K Badde  \\nJoint Director (Secretariat),  \\nCompetition Commission of India,  \\n9th Floor, Office Block – 1, Kidwai Nagar (East),  \\nOpposite AIIMS, Ring Road, NewDelhi -110023, India.  \\n \\nv) Sealed bid as prescribed in above mentioned paras shall be submitted either by')]"
      ]
     },
     "execution_count": 6,
     "metadata": {},
     "output_type": "execute_result"
    }
   ],
   "source": [
    "rfp_content"
   ]
  },
  {
   "cell_type": "code",
   "execution_count": 7,
   "metadata": {},
   "outputs": [],
   "source": [
    "# Combine retrieved content\n",
    "rfp_text = \" \".join([doc.page_content for doc in rfp_content])\n",
    "proposal_text = \" \".join([doc.page_content for doc in proposal_content])"
   ]
  },
  {
   "cell_type": "code",
   "execution_count": 8,
   "metadata": {},
   "outputs": [
    {
     "data": {
      "text/plain": [
       "'ii. CCI’s nominated Officers will be part of “Study Team” to ensure timely completion \\nof the study and quality assessment of the submissions made by the Agency.  \\n \\n \\n \\nVIII.   PRE -QUALIFICATION/ ELIGIBILITY CRITERIA  \\n \\nThe pre -qualification/ eligibility criteria for the agencies are provided in the table  below:  \\n \\nS. No.  Pre-Qualification Criteria  Proof Required  \\n1. A minimum  of 5 years of existence  \\n Copy of Certificate of \\nIncorporation/ Registration/ MoA, \\nas applicable.  \\n2. The Agency should have a minimum Annual \\nTurnover of Rs. 50 Cr. during each of the  3 \\nfinancial years  i.e., FY 2020 -21, FY 2021 -22 \\nand FY 2022 -23 Copies of  financial statements \\nduly audited by statutory auditors . \\nIn the absence of the same,  \\ncertificates issued by chartered \\naccountants  for the relevant years , \\nas per Annexure -1 \\n3. The Agency should have co mpleted  a \\nminimum of 5 studies/ projects (AI \\nrelated/tech -policy related/competition \\nrelated/sectoral studies for policy purposes ) XI. CRITERIA FOR EVALUATION OF PROPOSAL ………………………… ........... ......15 \\n(A) TECHNICAL EVALUATION ...................................................... ......................... ..15 \\n(B) SELECTION PROCESS …… …………………………….…….. ........................... .17 \\n(C) AWARD OF CONTRACT ……………………………….………… ...................... .18 \\nXII. SUBMISSION OF BIDS ……………………………………… ........................... ............. .....19 \\nXIII.  GENERAL INSTRUCTIONS AND TERMS AND CONDITIONS OF RFP …… ….20 \\n(A) RELATIONSHIP  ……………………………………………….. ...................... ......... ......20 \\n(B) AMENDMENTS TO THE TERMS AND CONDITIONS OF RFP:  .…… .............20 \\n(C) EARNEST MONEY DEPOSIT (EMD): ………………….. ................. ...................... ..20 \\n(D) PERFORMANCE SECURIT Y:……………….……………..…….. ....................... ......21 Request for Proposal for the Engagement of an Agency to Conduct Market Study on Artificial Intelligence (AI) and \\nCompetition  \\n15 \\n XI. CRITERIA FOR EVALUATION OF PROPOSAL  \\n \\nThe Technical Evaluation Committee (‘TEC’) constituted by the Competent Authority in CCI \\nshall examine the technical proposal s of only such bidders who satisfy the pre -qualification/ \\neligibility criteria mentioned in this RFP.   \\n \\n \\n(A) TECHNICAL EVALUATION  \\n  \\n(i) At the time of technical evaluation, all the bidders are required to present their \\ntechnical presentation before the TEC regarding their technical proposal. Each \\nbidder will be given a maximum of 15 minutes duration to make the \\npresentation. If a bidder does not appear for presentation at the  notified  date, \\ntime and venue, then their technical bid s will not be considered for evaluation.  \\n \\n(ii) The technical evaluation of the bid s and the presentation s will be done based on the following parameters to bring out the T echnical Marks for each bidder:  \\n \\nSl. \\nNo.  Particulars  Maximum Marks  \\n1.  Experience including Relevant \\nExperience  50 \\n2.  Team Composition  20 \\n \\n3.  Approach, Methodology & Work \\nplan  30 \\n TOTAL  100 \\n \\n(iii) While carrying out evaluation of the Technical Proposal , following marking \\npattern shall be followed:  \\n \\nMarking Pattern for Experience including Relevant Experience: Maximum Marks: 50 \\n \\nS. No.  Evaluation criteria  Maximum \\nMarks  \\n \\n1. Agency Profile  (number of years of existence, turnover,  \\nareas of work , global presence and exposure, access to \\nrelevant resources/databases)  50 \\n2. Number of relevant projects (AI related/tech -policy \\nrelated/competition related/sectoral studies for policy \\npurposes)  \\n \\n3. Empanelment with government/statutory bodies focused group discussions, any other) and \\nquality control  \\n▪ Presentation of the technical proposal   \\n \\n30 \\n \\n \\n(iv) The Technical Marks so obtained shall be graded for each bidder, based on the \\nfollowing grading system:  \\nGrade  Range  Technical Grade  \\nOutstanding  91-100 100 \\nExcellent  81-90 90 \\nVery Good  71-80 80 \\nGood  61-70 70 \\nVery Fair  51-60 60 \\nFair  41-50 50 \\nAverage  31-40 40 \\nBelow Average  21-30 30 \\nPoor  11-20 20 \\nVery Poor  1-10 10 \\nZero  0 0 Empanelment with government/statutory bodies  \\n(List along with empanelment letter s to be submitted)  \\n \\nAny other factor deemed relevant for assessment  \\n(Add relevant links /documents )  \\n \\n \\nSignature:  \\nName and Designation of the Authorised Signatory:  \\nName of Agency:  \\nAddress:  \\nSEAL of the Agency  \\nDate:  \\n*On the letterhead of the Agency Request for Proposal for the Engagement of an Agency to Conduct Market Study on Artificial Intelligence (AI) and \\nCompetition  \\n16 \\n 4. Citations of reports/surveys in public reports/government \\npolicy documents, media etc.  \\n \\n5. Any other factor deemed relevant for assessment  \\n \\nMarking Pattern for Team Composition: Maximum Marks: 20 \\nEvaluation criteria  Maximum Marks  \\nQualification, relevant experience, nature, scope and number \\nof projects steered by the team leader  10 \\nCore team composition including number of team members, \\nqualification, interdisciplinary expertise, relevant experience, \\nnature and scope of work undert aken by team members  10 \\n \\nMarking Pattern for Approach, Methodology & Work plan: Maximum Marks: 30 \\nEvaluation criteria  Maximum Marks  \\n \\n▪ Understanding of terms of reference, scope \\nof work and deliverables , clarity of plan of \\naction and methodology  \\n▪ Strategies for stakeholder consultation \\n(including survey, one -on-one meetings, final report along with all primary/raw and processed data in \\nhard and/or soft -copy format, or approval by the Competent \\nAuthority, whichever is later)  50% \\n \\n(B) The responsibility of payment of taxes/duties/GST shall solely rest upon the Engaged \\nAgency . Any default committed by the Engaged Agency in this respect shall not be \\nattributable to the Commission.  \\n \\n(C) The release of payment for conducting the market study sh all be subject to TDS as \\nper applicable Rules/Acts/Laws.  \\n \\nX. GUIDELINES FOR SUBMISSION OF PROPOSAL  \\n \\n(A) TECHNICAL PROPOSAL  \\n \\nThe Technical Proposal shall include the following information , along with relevant \\ndocuments : be summari ly rejected.  \\n \\n(vi) CCI reserves the right of seeking additional information including copies of \\nproject completion report s of other projects or Audited Annual Statement s of \\nAccounts while examining individual cases. Request for Proposal for the Engagement of an Agency to Conduct Market Study on Artificial Intelligence (AI) and \\nCompetition  \\n18 \\n  \\n(iii) Bids with a minimum technical score of 70 in technical evaluation will be \\nconsidered for financial score evaluation.  \\n \\n(iv) The proposal obtaining the highest CTFS will be ranked as H -1 followed by the \\nproposals securing lesser marks as H -2, H -3 etc. The propos al securing the \\nhighest combined marks and ranked H -1 and shall be recommended for award \\nof contract.  \\n \\n(v) In the event two or more bids have the same score in final ranking, the bid with \\nthe highe st technical score will be H -1. \\n \\n(vi) CCI will not notify the Agenc ies whose proposal did not meet the minimum \\nrequirement of technical score and  will notify  only the Agencies who have \\nobtained the  minimum  technical score.  \\n \\n(vii) The notification will be sent by a registered post/Fax/e -mail.  \\n \\n(C) AWARD OF CONTRACT be converted into Financial Scores based on the following formula:  \\nFS = 100 x LFB / F  \\nFS= Financial score  \\nLFB = lowest financial bid  \\nF = price quoted by the respective bidders  \\n \\n(x) After obtaining the Technical Score and Financial Score of each bidder, the \\nCombined Technical and Financial Score (CTFS) will be calculated. In \\ncalculation of CTFS, 70 percent weight will be given to the Technical Score and \\n30 percent weight will be given to the Financial Score.  \\n \\n(B) SELECTION PROCESS  \\nFollowing process for selection will be adopted:  \\n \\n(i) It is a n open  tender governed by General Financial Rules - 2017 . \\n \\n(ii) The selection process would be Quality and Cost Based Selection (QCBS). The \\nSelection Committee will select the Agency by giving 70% weightage to the \\ntechnical score and 30% weightage to the Financial Score. same specified time. Proposals received after the due date and time specified will be \\nrejected. No prop osal shall be accepted unless it is properly sealed. Request for Proposal for the Engagement of an Agency to Conduct Market Study on Artificial Intelligence (AI) and \\nCompetition  \\n21 \\n payable in favour of the “Competition Commission of India (Competition Fund) Account” \\npayable at Delhi. The Demand Draft/Banker Cheque for the earnest  money shall be put in \\nthe envelope for the Prequalification Bid as the technical and financial Bid would be opened \\nonly in respect of those agencies who qualify the prequalification criteria. The bids received \\nwithout the EMD will be summarily rejected.  The EMD shall be valid for a period of 45 \\ndays beyond the final bid validity period. EMD shall be forfeited if the bidder withdraws \\nor amends his bid or impairs or derogates from the bid in any respect within the period of \\nvalidity of its bid.  In the case o f successful agency, the EMD may be returned/ refunded \\nafter submission of the Performance Security (PS ) to be furnished on award of the work. post/with acknowledgement due or in person. Bids can be dropped in the tender box  \\nkept at Competition Commission of India, Reception, 9th Floor, Office Block – \\n1, Kidwai Nagar ( East), Opposite AIIMS, Ring Road, New Delhi - 110023, \\nIndia  on or before the given date and time. (vi) A two-to-five page summary  of the technical proposal . \\n \\n(B) FINANCIAL PROPOSAL  \\n \\n(i) The financial quotes should cover the entire cost of Study including all resource \\ncost, field work, data entry, data analysis, preparation of reports, travels \\nallowances, etc.  \\n \\n(ii) The cost quoted should be inclusive of all taxes; however, the amount and tax -\\nrate must be mentioned separately.  \\n \\n(iii) The Engaged Agency, in accepting the quoted rates/prices shall for all purposes \\nwhatsoever b e deemed to have independently obtained all necessary information \\nfor the purposes of the Agreement and shall be deemed to have taken into \\naccount all contingencies as may arise due to such information or the lack of the \\nsame.  \\n \\n(iv) All payments to the Engaged Agency shall be subjected to deduction of taxes at \\nsource as per applicable laws.  \\n \\n(v) The financial bid shall be submitted as per the format shown in Annexure -8. \\nFinancial bid submitted in any other format other than as per Annexure -8 shall the submission of proposal. The decision of extending the due date and time for \\nsubmission of bid documents on account of amendments , however,  will be the \\nsole discretion of CCI.  \\nii) CCI reserves the right to cancel the RFP at any stage without assigning any \\nreason.  \\n \\n \\nC) EARNEST MONEY DEPOSIT (EMD):  \\n \\nThe Agencies should furnish an Earnest Money Deposit of Rs 5, 00,000/ - (Rupees five \\nlakhs only)  by means of Demand Draft/Banker Cheque drawn on any Commercial Bank Annexure 2 :Performance Statement…………………………………………………… ….34  \\nAnnexure 3: Draft No -Conviction/ Debarment Certificate…………………………… ….35  \\nAnnexure  4: Letter of Transmittal .... ............................................. ..................... ................ ..36 \\nAnnexure 5: Outline of Experience including Relevant Experience ……………………. ..37 \\nAnnexure 6: Details of the Resource Persons/ Team Composition ………………………. .38 \\nAnnexure 7: Approach, Methodology and Detailed Work Plan …………………… .........39 \\nAnnexure 8: Financial Bid  ……………………………………………………………… .....40 \\nLIST OF ANNEXURES AND FORMATS: .... ............................................................................ ......41 Request for Proposal for the Engagement of an Agency to Conduct Market Study on Artificial Intelligence (AI) and \\nCompetition  \\n13 \\n 4. The Agency should not have been blacklisted \\nby Central/ State Gover nment Departments/ \\nUndertakings/Court of Law   No Conviction/ Debarment \\nCertificate duly signed by the \\nAuthorised  Signatory of the \\nAgency, as per Annexure -3.  \\n \\n5 The agency should have a valid PAN and \\nService Tax/GST Registration in India  \\n(if applicable)  Self-attested c opy of PAN card \\nand Service Tax/ GST \\nRegistration certificate (if \\napplicable)  \\n \\n \\n \\nIX. PAYMENT SCHEDULE  \\n \\n(A) The payment Schedule is given in the table below.  \\n \\nMILESTONE  PAYMENT  \\n(% BREAKUP)  \\nFacilitation fee on submission of a separate Bank Guarantee \\nof the same amount  25% \\nSubmission of I nterim Report (Within 7 days of acceptance \\nof interim report, or approval by the Competent Authority, \\nwhichever is later)  \\n 25% \\nSubmission of Final Report (Within 15 days of acceptance of CCI reserves the right to change/ modify/ amend any or all provisions of this RFP document. iii) All pages of the  Pre-qualification,  Technical and Financial Bid s shall be duly signed \\nby the authorized signatory of the agency before submission . Corrections, if any \\nshall be counter signed. The agency should submit the Technical Bid in the \\nprescribed Proforma (Annexure 5, 6, 7) and Financial Bid in the prescribed \\nProforma (Annexure 8) only ; failing which , the offer shall be summarily rejected.  \\n \\niv) All these sealed envelopes are to be put in a bigger envelope which should also be \\nsealed and duly super -scripted as “Proposal for the engagement of an Agency for \\nconducting “Market Study on Artificial Intelligence (AI) and Competition ” and \\naddressed to:  \\n \\nRaj K Badde  \\nJoint Director (Secretariat),  \\nCompetition Commission of India,  \\n9th Floor, Office Block – 1, Kidwai Nagar (East),  \\nOpposite AIIMS, Ring Road, NewDelhi -110023, India.  \\n \\nv) Sealed bid as prescribed in above mentioned paras shall be submitted either by'"
      ]
     },
     "execution_count": 8,
     "metadata": {},
     "output_type": "execute_result"
    }
   ],
   "source": [
    "rfp_text"
   ]
  },
  {
   "cell_type": "code",
   "execution_count": 9,
   "metadata": {},
   "outputs": [
    {
     "name": "stderr",
     "output_type": "stream",
     "text": [
      "c:\\Users\\skaushik047\\Desktop\\WORK\\poc_proposal_analyzer\\myenv\\Lib\\site-packages\\langchain_core\\_api\\deprecation.py:139: LangChainDeprecationWarning: The class `LLMChain` was deprecated in LangChain 0.1.17 and will be removed in 1.0. Use RunnableSequence, e.g., `prompt | llm` instead.\n",
      "  warn_deprecated(\n",
      "c:\\Users\\skaushik047\\Desktop\\WORK\\poc_proposal_analyzer\\myenv\\Lib\\site-packages\\langchain_core\\_api\\deprecation.py:139: LangChainDeprecationWarning: The method `Chain.run` was deprecated in langchain 0.1.0 and will be removed in 0.3.0. Use invoke instead.\n",
      "  warn_deprecated(\n"
     ]
    },
    {
     "data": {
      "text/markdown": [
       "The eligibility criteria listed in the Request for Proposal (RFP) are as follows:\n",
       "\n",
       "1. **A minimum of 5 years of existence**\n",
       "   - **Proof Required:** Copy of Certificate of Incorporation/Registration/MoA, as applicable.\n",
       "\n",
       "2. **The Agency should have a minimum Annual Turnover of Rs. 50 Cr. during each of the 3 financial years i.e., FY 2020-21, FY 2021-22, and FY 2022-23**\n",
       "   - **Proof Required:** Copies of financial statements duly audited by statutory auditors. In the absence of the same, certificates issued by chartered accountants for the relevant years, as per Annexure-1.\n",
       "\n",
       "3. **The Agency should have completed a minimum of 5 studies/projects (AI related/tech-policy related/competition related/sectoral studies for policy purposes)**\n",
       "   - **Proof Required:** Not explicitly mentioned in the provided text, but typically would include project completion reports or similar documentation.\n",
       "\n",
       "4. **The Agency should not have been blacklisted by Central/State Government Departments/Undertakings/Court of Law**\n",
       "   - **Proof Required:** No Conviction/Debarment Certificate duly signed by the Authorised Signatory of the Agency, as per Annexure-3.\n",
       "\n",
       "5. **The agency should have a valid PAN and Service Tax/GST Registration in India (if applicable)**\n",
       "   - **Proof Required:** Self-attested copy of PAN card and Service Tax/GST Registration certificate (if applicable)."
      ],
      "text/plain": [
       "<IPython.core.display.Markdown object>"
      ]
     },
     "metadata": {},
     "output_type": "display_data"
    }
   ],
   "source": [
    "llm= AzureChatOpenAI(\n",
    "            openai_api_key = os.getenv(\"AZURE_OPENAI_API_KEY\"),\n",
    "            openai_api_version = os.getenv(\"AZURE_OPENAI_API_VERSION\"),\n",
    "            azure_deployment = os.getenv(\"AZURE_OPENAI_CHAT_DEPLOYMENT_NAME\"),\n",
    "            azure_endpoint = os.getenv(\"AZURE_OPENAI_ENDPOINT\"),\n",
    "            temperature = 0,\n",
    "            \n",
    "        )\n",
    "\n",
    "template = \"\"\"\n",
    "You are an AI contract analyzer. Your task is to Find all the eligibility criteria listed in a Request for Proposal (RFP).\n",
    "\n",
    "RFP Content:\n",
    "{rfp_text}\n",
    "\n",
    "\"\"\"\n",
    "\n",
    "prompt = PromptTemplate(input_variables=[\"rfp_text\"], template=template)\n",
    "chain = LLMChain(llm=llm, prompt=prompt)\n",
    "\n",
    "rfp_result=chain.run(rfp_text=rfp_text)\n",
    "\n",
    "from IPython.display import Markdown, display\n",
    "display(Markdown(rfp_result))"
   ]
  },
  {
   "cell_type": "code",
   "execution_count": 10,
   "metadata": {},
   "outputs": [],
   "source": [
    "llm= AzureChatOpenAI(\n",
    "            openai_api_key = os.getenv(\"AZURE_OPENAI_API_KEY\"),\n",
    "            openai_api_version = os.getenv(\"AZURE_OPENAI_API_VERSION\"),\n",
    "            azure_deployment = os.getenv(\"AZURE_OPENAI_CHAT_DEPLOYMENT_NAME\"),\n",
    "            azure_endpoint = os.getenv(\"AZURE_OPENAI_ENDPOINT\"),\n",
    "            temperature = 0,\n",
    "            \n",
    "        )\n",
    "\n",
    "template = \"\"\"\n",
    "You are an AI contract analyzer. Your task is to compare the eligibility criteria listed in a Request for Proposal (RFP) with the details provided in a proposal.\n",
    "\n",
    "RFP Content:\n",
    "{rfp_result}\n",
    "\n",
    "Proposal Content:\n",
    "{proposal_content}\n",
    "\n",
    "For each eligibility criterion in the RFP, provide the following:\n",
    "\n",
    "Eligibility Criterion: [Insert eligibility criterion from RFP]\n",
    "Eligibility Met (Yes/No): [Yes/No]\n",
    "Reason: [Provide a detailed explanation of how the eligibility criterion is met or not met based on the proposal]\n",
    "\n",
    "Please provide your analysis in a clear, structured format.\n",
    "\n",
    "\"\"\"\n",
    "\n",
    "prompt = PromptTemplate(input_variables=[\"rfp_result\", \"proposal_content\"], template=template)\n",
    "chain = LLMChain(llm=llm, prompt=prompt)\n",
    "prompt = PromptTemplate(input_variables=[\"rfp_content\", \"proposal_content\"], template=template)\n",
    "# chain = LLMChain(llm=llm, prompt=prompt)\n",
    "\n",
    "# extarctor_chain=prompt|llm.with_structured_output(\n",
    "# schema=EligibilityData,\n",
    "# include_raw=False\n",
    "# )\n",
    "extarctor_chain=prompt|llm\n",
    "result=extarctor_chain.invoke({'rfp_result':rfp_result, 'proposal_content':proposal_content})\n"
   ]
  },
  {
   "cell_type": "code",
   "execution_count": 11,
   "metadata": {},
   "outputs": [
    {
     "data": {
      "text/markdown": [
       "Certainly! Below is the structured analysis comparing the eligibility criteria listed in the RFP with the details provided in the proposal.\n",
       "\n",
       "### Eligibility Criterion 1: A minimum of 5 years of existence\n",
       "**Eligibility Met (Yes/No):** Yes  \n",
       "**Reason:** The proposal states that Quantum Analytics Consulting has over 15 years of global experience. Additionally, Annexure 1 includes the Certificate of Incorporation, which serves as proof of the company's existence for more than 5 years.\n",
       "\n",
       "### Eligibility Criterion 2: The Agency should have a minimum Annual Turnover of Rs. 50 Cr. during each of the 3 financial years i.e., FY 2020-21, FY 2021-22, and FY 2022-23\n",
       "**Eligibility Met (Yes/No):** No  \n",
       "**Reason:** The proposal only includes financial statements for FY 2022-23 (Annexure 2). There is no mention or inclusion of financial statements or certificates for FY 2020-21 and FY 2021-22, which are required to meet this criterion.\n",
       "\n",
       "### Eligibility Criterion 3: The Agency should have completed a minimum of 5 studies/projects (AI related/tech-policy related/competition related/sectoral studies for policy purposes)\n",
       "**Eligibility Met (Yes/No):** Yes  \n",
       "**Reason:** The proposal mentions that Quantum Analytics Consulting has conducted over 50 studies globally on technology's impact on market structures, including ten in AI and competition. Annexure 3 includes copies of completion certificates for relevant past projects, which supports this claim.\n",
       "\n",
       "### Eligibility Criterion 4: The Agency should not have been blacklisted by Central/State Government Departments/Undertakings/Court of Law\n",
       "**Eligibility Met (Yes/No):** No  \n",
       "**Reason:** The proposal does not include a No Conviction/Debarment Certificate duly signed by the Authorised Signatory of the Agency, as per Annexure-3. This document is required to confirm that the agency has not been blacklisted.\n",
       "\n",
       "### Eligibility Criterion 5: The agency should have a valid PAN and Service Tax/GST Registration in India (if applicable)\n",
       "**Eligibility Met (Yes/No):** No  \n",
       "**Reason:** The proposal does not include a self-attested copy of the PAN card and Service Tax/GST Registration certificate. These documents are necessary to meet this eligibility criterion.\n",
       "\n",
       "### Summary\n",
       "Based on the analysis, Quantum Analytics Consulting meets the eligibility criteria for the minimum years of existence and the completion of relevant projects. However, the proposal lacks the necessary financial statements for all required years, the No Conviction/Debarment Certificate, and the PAN and Service Tax/GST Registration documents. Therefore, the proposal does not fully meet all the eligibility criteria outlined in the RFP."
      ],
      "text/plain": [
       "<IPython.core.display.Markdown object>"
      ]
     },
     "metadata": {},
     "output_type": "display_data"
    }
   ],
   "source": [
    "from IPython.display import display, Markdown\n",
    "display(Markdown(result.content))\n"
   ]
  },
  {
   "cell_type": "markdown",
   "metadata": {},
   "source": [
    "#### Structured Output-1 "
   ]
  },
  {
   "cell_type": "code",
   "execution_count": 12,
   "metadata": {},
   "outputs": [],
   "source": [
    "class EligibilityCriterion(BaseModel):\n",
    "  criterion: str = Field(..., description=\"Description of the eligibility criterion.\")\n",
    "  eligibility_met: str = Field(..., description=\"Whether the eligibility criterion is met (Yes/No).\")\n",
    "  reason: str = Field(..., description=\"Reason for the eligibility status.\")\n",
    "\n",
    "class EligibilityData(BaseModel):\n",
    "  eligibility_criteria: List[EligibilityCriterion]"
   ]
  },
  {
   "cell_type": "code",
   "execution_count": 13,
   "metadata": {},
   "outputs": [],
   "source": [
    "llm= AzureChatOpenAI(\n",
    "            openai_api_key = os.getenv(\"AZURE_OPENAI_API_KEY\"),\n",
    "            openai_api_version = os.getenv(\"AZURE_OPENAI_API_VERSION\"),\n",
    "            azure_deployment = os.getenv(\"AZURE_OPENAI_CHAT_DEPLOYMENT_NAME\"),\n",
    "            azure_endpoint = os.getenv(\"AZURE_OPENAI_ENDPOINT\"),\n",
    "            temperature = 0,\n",
    "            \n",
    "        )\n",
    "\n",
    "template = \"\"\"\n",
    "You are an AI contract analyzer. Your task is to compare the eligibility criteria listed in a Request for Proposal (RFP) with the details provided in a proposal.\n",
    "\n",
    "RFP Content:\n",
    "{rfp_result}\n",
    "\n",
    "Proposal Content:\n",
    "{proposal_content}\n",
    "\n",
    "For each eligibility criterion in the RFP, provide the following:\n",
    "\n",
    "Eligibility Criterion: [Insert eligibility criterion from RFP]\n",
    "Eligibility Met (Yes/No): [Yes/No]\n",
    "Reason: [Provide a detailed explanation of how the eligibility criterion is met or not met based on the proposal]\n",
    "\n",
    "Please provide your analysis in a clear, structured format.\n",
    "\n",
    "\"\"\"\n",
    "\n",
    "prompt = PromptTemplate(input_variables=[\"rfp_result\", \"proposal_content\"], template=template)\n",
    "\n",
    "\n",
    "extarctor_chain=prompt|llm.with_structured_output(\n",
    "schema=EligibilityData,\n",
    "include_raw=False\n",
    ")\n",
    "\n",
    "result=extarctor_chain.invoke({'rfp_result':rfp_result, 'proposal_content':proposal_content})\n"
   ]
  },
  {
   "cell_type": "code",
   "execution_count": 14,
   "metadata": {},
   "outputs": [
    {
     "data": {
      "text/plain": [
       "EligibilityData(eligibility_criteria=[EligibilityCriterion(criterion='A minimum of 5 years of existence', eligibility_met='Yes', reason='The proposal states that Quantum Analytics Consulting has over 15 years of global experience. This is supported by the Certificate of Incorporation provided in Annexure 1.'), EligibilityCriterion(criterion='The Agency should have a minimum Annual Turnover of Rs. 50 Cr. during each of the 3 financial years i.e., FY 2020-21, FY 2021-22, and FY 2022-23', eligibility_met='No', reason='The proposal only includes financial statements for FY 2022-23 in Annexure 2. There is no information provided for FY 2020-21 and FY 2021-22.'), EligibilityCriterion(criterion='The Agency should have completed a minimum of 5 studies/projects (AI related/tech-policy related/competition related/sectoral studies for policy purposes)', eligibility_met='Yes', reason=\"The proposal mentions that Quantum Analytics Consulting has conducted over 50 studies globally on technology's impact on market structures, including ten in AI and competition. Completion certificates for relevant past projects are provided in Annexure 3.\"), EligibilityCriterion(criterion='The Agency should not have been blacklisted by Central/State Government Departments/Undertakings/Court of Law', eligibility_met='Not Determined', reason='The proposal does not provide a No Conviction/Debarment Certificate as per Annexure-3. Therefore, it cannot be determined if this criterion is met.'), EligibilityCriterion(criterion='The agency should have a valid PAN and Service Tax/GST Registration in India (if applicable)', eligibility_met='Not Determined', reason='The proposal does not include a self-attested copy of the PAN card and Service Tax/GST Registration certificate. Therefore, it cannot be determined if this criterion is met.')])"
      ]
     },
     "execution_count": 14,
     "metadata": {},
     "output_type": "execute_result"
    }
   ],
   "source": [
    "result"
   ]
  },
  {
   "cell_type": "markdown",
   "metadata": {},
   "source": [
    "#### Structured Output- JSON-1"
   ]
  },
  {
   "cell_type": "code",
   "execution_count": 15,
   "metadata": {},
   "outputs": [
    {
     "data": {
      "text/plain": [
       "{'eligibility_criteria': [{'criterion': 'A minimum of 5 years of existence',\n",
       "   'eligibility_met': 'Yes',\n",
       "   'reason': 'The proposal states that Quantum Analytics Consulting has over 15 years of global experience. Additionally, Annexure 1 includes the Certificate of Incorporation, which serves as proof of existence.'},\n",
       "  {'criterion': 'The Agency should have a minimum Annual Turnover of Rs. 50 Cr. during each of the 3 financial years i.e., FY 2020-21, FY 2021-22, and FY 2022-23',\n",
       "   'eligibility_met': 'No',\n",
       "   'reason': 'The proposal only includes the financial statement for FY 2022-23 (Annexure 2). There is no mention of financial statements or certificates for FY 2020-21 and FY 2021-22.'},\n",
       "  {'criterion': 'The Agency should have completed a minimum of 5 studies/projects (AI related/tech-policy related/competition related/sectoral studies for policy purposes)',\n",
       "   'eligibility_met': 'Yes',\n",
       "   'reason': \"The proposal mentions that Quantum Analytics Consulting has conducted over 50 studies globally on technology's impact on market structures, including ten in AI and competition. Annexure 3 includes copies of completion certificates for relevant past projects.\"},\n",
       "  {'criterion': 'The Agency should not have been blacklisted by Central/State Government Departments/Undertakings/Court of Law',\n",
       "   'eligibility_met': 'No',\n",
       "   'reason': 'The proposal does not include a No Conviction/Debarment Certificate as per Annexure-3, which is required to prove that the agency has not been blacklisted.'},\n",
       "  {'criterion': 'The agency should have a valid PAN and Service Tax/GST Registration in India (if applicable)',\n",
       "   'eligibility_met': 'No',\n",
       "   'reason': 'The proposal does not include a self-attested copy of the PAN card or the Service Tax/GST Registration certificate.'}]}"
      ]
     },
     "execution_count": 15,
     "metadata": {},
     "output_type": "execute_result"
    }
   ],
   "source": [
    "\n",
    "from langchain_core.output_parsers import JsonOutputParser\n",
    "parser = JsonOutputParser(pydantic_object=EligibilityData)\n",
    "\n",
    "template = \"\"\"\n",
    "You are an AI contract analyzer. Your task is to compare the eligibility criteria listed in a Request for Proposal (RFP) with the details provided in a proposal.\n",
    "\n",
    "RFP Content:\n",
    "{rfp_result}\n",
    "\n",
    "Proposal Content:\n",
    "{proposal_content}\n",
    "\n",
    "For each eligibility criterion in the RFP, provide the following:\n",
    "\n",
    "Eligibility Criterion: [Insert eligibility criterion from RFP]\n",
    "Eligibility Met (Yes/No): [Yes/No]\n",
    "Reason: [Provide a detailed explanation of how the eligibility criterion is met or not met based on the proposal]\n",
    "\n",
    "Please provide your analysis in a clear, structured format.\n",
    "\\n{format_instructions}\n",
    "\"\"\"\n",
    "\n",
    "prompt = PromptTemplate(\n",
    "    template=template,\n",
    "    input_variables=[\"rfp_content\", \"proposal_content\"],\n",
    "    partial_variables={\"format_instructions\": parser.get_format_instructions()},\n",
    ")\n",
    "\n",
    "json_chain=prompt|llm|parser\n",
    "\n",
    "result=json_chain.invoke({'rfp_result':rfp_result, 'proposal_content':proposal_content})\n",
    "result"
   ]
  },
  {
   "cell_type": "code",
   "execution_count": null,
   "metadata": {},
   "outputs": [],
   "source": []
  },
  {
   "cell_type": "markdown",
   "metadata": {},
   "source": [
    "# APPENDIC_ RANDOM TEST"
   ]
  },
  {
   "cell_type": "code",
   "execution_count": 21,
   "metadata": {},
   "outputs": [],
   "source": [
    "text=\"Proposal for Conducting Market Study on Artificial Intelligence and \\nCompetition  \\nSubmitted to:  Competition Commission of India  \\nPrepared by:  Quantum Analytics Consulting  \\nDate:  July 25, 2024  \\nExecutive Summary  \\nQuantum Analytics Consulting proposes to undertake a comprehensive market study on the \\nimpact of Artificial Intelligence (AI) on competition in key sectors. With over 15 years of global \\nexperience and a dedicated AI research division, our firm is uniquely positioned to deliver \\ninsights that will inform policy and regulatory approaches to foster fair competition and \\ninnovation in AI -driven markets. The firm has successfully delivered more than 20 projects  in \\nAI/Analytics sector in last 3 years.  \\nFirm Profile  and Qualifications  \\n• Global Presence:  Offices in 20 countries, 300+ consultants worldwide.  \\n• Expertise:  Specialized in AI, data science, competition law, and technology policy.  \\n• Past Projects:  Over 50 studies conducted globally on technology's impact on mar ket \\nstructures, including ten in AI and competition.  \\n• Revenue:  \\nFY 2020 -21 50 Cr  \\nFY 2021 -22 52 Cr  \\nFY 2022 -23 58 Cr  \\n \\nProject Understanding and Approach  \\n• Objectives:  To assess how AI shapes competition in various sectors and identify \\npotential regulatory responses.  \\n• Methodology:   \\n1. Literature Review:  Access to major databases like JSTOR, IEEE Xplore, and \\nproprietary tech industry reports.  \\n2. Stakeholder Consultation:  Interviews with 50+ firms including AI startups, tech \\ngiants, and policy bodies.  3. Data Collection and Analysis:  Use of statistical software for quantitative \\nanalysis and thematic analysis for qualitative insights.  \\n4. Reporting:  Drafting an interim report for fee dback, followed by a detailed final \\nreport with policy recommendations.  \\nProject Team and Management Structure  \\n• Project Leader:  Dr. Lisa Ray, Ph.D. in AI from MIT, 12 years of experience in AI \\nresearch.  \\n• Team Members:  Includes data scientists, AI experts, competition economists, and legal \\nadvisors.  \\n• Organizational Chart:  [Insert a simple diagram showing the team structure]  \\nProjec t Timeline  \\n• Weeks 1 -6: Secondary research and development of questionnaires.  \\n• Weeks 7 -18: Stakeholder interviews and data collection.  \\n• Weeks 19 -24: Data analysis and interim report preparation.  \\n• Weeks 25 -30: Final report drafting and review.  \\n• Week 31:  Presentation to the Commission.  \\nRisk Management and Quality Assurance  \\n• Risk Management:  Regular audits and stakeholder feedback loops to mitigate risks.  \\n• Quality Assurance:  Peer reviews and compliance checks with ISO 9001 standards.  \\nLegal and Regulatory Compliance  \\n• Data Protection:  Adherence to GDPR and local data protection laws.  \\n• Confidentiality:  Strict protocols for handling sensitive information.  \\nBudget and Cost Justif ication  \\n• Total Project Cost:  $500,000 o  Labor:  $300,000 o  Travel and Meetings:  \\n$50,000 o  Data Access and Tools:  $100,000 o  Miscellaneous:  $50,000  \\n• Value Proposition:  Cost-effective due to in -house AI tools and existing data agreements.  \\nAttachments  \\n• Certificate of Incorporation.  \\n• Financial Statements for FY 2020 -21 , FY 2021 -22, FY 2022 -23. \\n• Copies of completion certificates for relevant past projects  \\n• No Conviction/ Debarment Certificate  \\n• Self-attested copy of PAN card and Service Tax   \\nConclusion  \\nQuantum Analytics is excited about the opportunity to collaborate with the Competition \\nCommission of India to explore the transformative impact of AI on market competition. We are \\ncommitted to pr oviding comprehensive, insightful, and actionable findings.  \\nSubmission Details  \\n• Address for Submission:  Competition Commission of India, 9th Floor, Office Block – \\n1, Kidwai Nagar (East), New Delhi - 110023, India.  \\n• Electronic Submission:  Proposals should be submitted via email to ai-study@cci.gov.in  \\nby 5:00 PM on August 30, 2024.  \\n   \"\n",
    "text_splitter = RecursiveCharacterTextSplitter(chunk_size=100, chunk_overlap=0)\n",
    "# docs = text_splitter.split_documents(documents)\n",
    "docs= text_splitter.create_documents([text])"
   ]
  },
  {
   "cell_type": "code",
   "execution_count": 23,
   "metadata": {},
   "outputs": [
    {
     "data": {
      "text/plain": [
       "[Document(page_content='Proposal for Conducting Market Study on Artificial Intelligence and \\nCompetition'),\n",
       " Document(page_content='Submitted to:  Competition Commission of India  \\nPrepared by:  Quantum Analytics Consulting'),\n",
       " Document(page_content='Date:  July 25, 2024  \\nExecutive Summary'),\n",
       " Document(page_content='Quantum Analytics Consulting proposes to undertake a comprehensive market study on the'),\n",
       " Document(page_content='impact of Artificial Intelligence (AI) on competition in key sectors. With over 15 years of global'),\n",
       " Document(page_content='experience and a dedicated AI research division, our firm is uniquely positioned to deliver'),\n",
       " Document(page_content='insights that will inform policy and regulatory approaches to foster fair competition and'),\n",
       " Document(page_content='innovation in AI -driven markets. The firm has successfully delivered more than 20 projects  in'),\n",
       " Document(page_content='AI/Analytics sector in last 3 years.  \\nFirm Profile  and Qualifications'),\n",
       " Document(page_content='• Global Presence:  Offices in 20 countries, 300+ consultants worldwide.'),\n",
       " Document(page_content='• Expertise:  Specialized in AI, data science, competition law, and technology policy.'),\n",
       " Document(page_content=\"• Past Projects:  Over 50 studies conducted globally on technology's impact on mar ket\"),\n",
       " Document(page_content='structures, including ten in AI and competition.  \\n• Revenue:  \\nFY 2020 -21 50 Cr'),\n",
       " Document(page_content='FY 2021 -22 52 Cr  \\nFY 2022 -23 58 Cr  \\n \\nProject Understanding and Approach'),\n",
       " Document(page_content='• Objectives:  To assess how AI shapes competition in various sectors and identify'),\n",
       " Document(page_content='potential regulatory responses.  \\n• Methodology:'),\n",
       " Document(page_content='1. Literature Review:  Access to major databases like JSTOR, IEEE Xplore, and'),\n",
       " Document(page_content='proprietary tech industry reports.'),\n",
       " Document(page_content='2. Stakeholder Consultation:  Interviews with 50+ firms including AI startups, tech'),\n",
       " Document(page_content='giants, and policy bodies.  3. Data Collection and Analysis:  Use of statistical software for'),\n",
       " Document(page_content='quantitative'),\n",
       " Document(page_content='analysis and thematic analysis for qualitative insights.'),\n",
       " Document(page_content='4. Reporting:  Drafting an interim report for fee dback, followed by a detailed final'),\n",
       " Document(page_content='report with policy recommendations.  \\nProject Team and Management Structure'),\n",
       " Document(page_content='• Project Leader:  Dr. Lisa Ray, Ph.D. in AI from MIT, 12 years of experience in AI \\nresearch.'),\n",
       " Document(page_content='• Team Members:  Includes data scientists, AI experts, competition economists, and legal'),\n",
       " Document(page_content='advisors.  \\n• Organizational Chart:  [Insert a simple diagram showing the team structure]'),\n",
       " Document(page_content='Projec t Timeline  \\n• Weeks 1 -6: Secondary research and development of questionnaires.'),\n",
       " Document(page_content='• Weeks 7 -18: Stakeholder interviews and data collection.'),\n",
       " Document(page_content='• Weeks 19 -24: Data analysis and interim report preparation.'),\n",
       " Document(page_content='• Weeks 25 -30: Final report drafting and review.  \\n• Week 31:  Presentation to the Commission.'),\n",
       " Document(page_content='Risk Management and Quality Assurance'),\n",
       " Document(page_content='• Risk Management:  Regular audits and stakeholder feedback loops to mitigate risks.'),\n",
       " Document(page_content='• Quality Assurance:  Peer reviews and compliance checks with ISO 9001 standards.'),\n",
       " Document(page_content='Legal and Regulatory Compliance'),\n",
       " Document(page_content='• Data Protection:  Adherence to GDPR and local data protection laws.'),\n",
       " Document(page_content='• Confidentiality:  Strict protocols for handling sensitive information.'),\n",
       " Document(page_content='Budget and Cost Justif ication'),\n",
       " Document(page_content='• Total Project Cost:  $500,000 o  Labor:  $300,000 o  Travel and Meetings:'),\n",
       " Document(page_content='$50,000 o  Data Access and Tools:  $100,000 o  Miscellaneous:  $50,000'),\n",
       " Document(page_content='• Value Proposition:  Cost-effective due to in -house AI tools and existing data agreements.'),\n",
       " Document(page_content='Attachments  \\n• Certificate of Incorporation.'),\n",
       " Document(page_content='• Financial Statements for FY 2020 -21 , FY 2021 -22, FY 2022 -23.'),\n",
       " Document(page_content='• Copies of completion certificates for relevant past projects'),\n",
       " Document(page_content='• No Conviction/ Debarment Certificate  \\n• Self-attested copy of PAN card and Service Tax'),\n",
       " Document(page_content='Conclusion'),\n",
       " Document(page_content='Quantum Analytics is excited about the opportunity to collaborate with the Competition'),\n",
       " Document(page_content='Commission of India to explore the transformative impact of AI on market competition. We are'),\n",
       " Document(page_content='committed to pr oviding comprehensive, insightful, and actionable findings.  \\nSubmission Details'),\n",
       " Document(page_content='• Address for Submission:  Competition Commission of India, 9th Floor, Office Block –'),\n",
       " Document(page_content='1, Kidwai Nagar (East), New Delhi - 110023, India.'),\n",
       " Document(page_content='• Electronic Submission:  Proposals should be submitted via email to ai-study@cci.gov.in'),\n",
       " Document(page_content='by 5:00 PM on August 30, 2024.')]"
      ]
     },
     "execution_count": 23,
     "metadata": {},
     "output_type": "execute_result"
    }
   ],
   "source": [
    "docs"
   ]
  }
 ],
 "metadata": {
  "kernelspec": {
   "display_name": "myenv",
   "language": "python",
   "name": "python3"
  },
  "language_info": {
   "codemirror_mode": {
    "name": "ipython",
    "version": 3
   },
   "file_extension": ".py",
   "mimetype": "text/x-python",
   "name": "python",
   "nbconvert_exporter": "python",
   "pygments_lexer": "ipython3",
   "version": "3.12.4"
  }
 },
 "nbformat": 4,
 "nbformat_minor": 2
}
